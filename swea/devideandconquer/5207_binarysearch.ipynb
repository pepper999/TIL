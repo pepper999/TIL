{
 "cells": [
  {
   "cell_type": "markdown",
   "metadata": {},
   "source": [
    "### 5207 이진 탐색\n",
    "\n",
    "1. 일반적인 이진 탐색임\n",
    "\n",
    "2. 연속해서 같은 방향으로 탐색을 한다면, 탐색이 끝난것이기 떄문에 그 즉시 return!"
   ]
  },
  {
   "cell_type": "code",
   "execution_count": 4,
   "metadata": {},
   "outputs": [
    {
     "name": "stdout",
     "output_type": "stream",
     "text": [
      "#1 2\n",
      "#2 0\n",
      "#3 3\n"
     ]
    }
   ],
   "source": [
    "def binary(nums, target):\n",
    "    left, right, flag = 0, len(nums) - 1, 2\n",
    "    cnt = 0\n",
    "    while left <= right:\n",
    "        mid = (left + right) // 2\n",
    "        if nums[mid] == target:\n",
    "            cnt += 1\n",
    "            return cnt\n",
    "        elif nums[mid] > target:\n",
    "            right = mid - 1\n",
    "            if flag == 1:\n",
    "                return cnt\n",
    "            flag = 1\n",
    "        elif nums[mid] < target:\n",
    "            left = mid + 1\n",
    "            if not flag:\n",
    "                return cnt\n",
    "            flag = 0\n",
    "    return cnt\n",
    "\n",
    "T = int(input())\n",
    "for t in range(T):\n",
    "    N, M = map(int, input().split())\n",
    "    nums1 = sorted(list(map(int, input().split())))\n",
    "    nums2 = list(map(int, input().split()))\n",
    "    rlt = 0\n",
    "    for num in nums2:\n",
    "        rlt += binary(nums1, num)\n",
    "    print(f'#{t+1}', rlt)"
   ]
  }
 ],
 "metadata": {
  "kernelspec": {
   "display_name": "Python 3",
   "language": "python",
   "name": "python3"
  },
  "language_info": {
   "codemirror_mode": {
    "name": "ipython",
    "version": 3
   },
   "file_extension": ".py",
   "mimetype": "text/x-python",
   "name": "python",
   "nbconvert_exporter": "python",
   "pygments_lexer": "ipython3",
   "version": "3.9.13"
  },
  "orig_nbformat": 4
 },
 "nbformat": 4,
 "nbformat_minor": 2
}

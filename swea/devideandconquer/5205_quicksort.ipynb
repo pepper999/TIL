{
 "cells": [
  {
   "cell_type": "markdown",
   "metadata": {},
   "source": [
    "### 5205 퀵소트\n",
    "\n",
    "1. hoare_partition 알고리즘을 사용한 quick 정렬을 사용해서 해결!\n",
    "\n",
    "2. 기준이 될 pivot을 왼쪽 끝/오른쪽 끝/임의의 세개 값 중 중간 값중 하나로 설정\n",
    "\n",
    "3. 피봇 + 1 과 리스트의 맨뒤에서 동시에 출발해서 왼쪽은 피봇보다 큰 값을, 오른쪽은 피봇보다 작은 값을 찾는다.\n",
    "\n",
    "4. 둘 다 찾으면 둘의 위치를 변경\n",
    "\n",
    "5. 피봇을 사이에 두고, 왼쪽 오른쪽 리스트를 배치한다.\n",
    "\n",
    "6. 왼쪽 오른쪽에 대해서 다시 hoare-partition 알고리즘을 적용한다."
   ]
  },
  {
   "cell_type": "code",
   "execution_count": null,
   "metadata": {},
   "outputs": [],
   "source": [
    "# 기준이 되는 피봇에 대해서 작은값과 큰값을 찾으면 둘의 위치 변경\n",
    "def hoare_partition(nums, low, high):\n",
    "    pivot = nums[low]\n",
    "    i, j = low - 1, high + 1\n",
    "    while True:\n",
    "        i += 1\n",
    "        while nums[i] < pivot:\n",
    "            i += 1\n",
    "        j -= 1\n",
    "        while nums[j] > pivot:\n",
    "            j -= 1\n",
    "        if i >= j:\n",
    "            return j\n",
    "        nums[i], nums[j] = nums[j], nums[i]\n",
    "# 퀵소트 함수, 기준이 되는 피벗을 찾아서 그 기준으로 두부분을 나눠서 탐색\n",
    "def quick_sort(nums, low, high):\n",
    "    if low < high:\n",
    "        pivot_idx = hoare_partition(nums, low, high)\n",
    "        quick_sort(nums, low, pivot_idx)\n",
    "        quick_sort(nums, pivot_idx + 1, high)\n",
    "\n",
    "T = int(input())\n",
    "for t in range(T):\n",
    "    N = int(input())\n",
    "    nums = list(map(int, input().split()))\n",
    "    quick_sort(nums, 0, N-1)\n",
    "    print(f'#{t+1}',nums[N//2])"
   ]
  }
 ],
 "metadata": {
  "kernelspec": {
   "display_name": "Python 3",
   "language": "python",
   "name": "python3"
  },
  "language_info": {
   "codemirror_mode": {
    "name": "ipython",
    "version": 3
   },
   "file_extension": ".py",
   "mimetype": "text/x-python",
   "name": "python",
   "nbconvert_exporter": "python",
   "pygments_lexer": "ipython3",
   "version": "3.9.13"
  },
  "orig_nbformat": 4
 },
 "nbformat": 4,
 "nbformat_minor": 2
}

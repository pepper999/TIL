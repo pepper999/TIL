{
 "cells": [
  {
   "cell_type": "markdown",
   "metadata": {},
   "source": [
    "### 5204 병합 정렬\n",
    "\n",
    "1. 기본적인 병합 정렬을 구현!\n",
    "\n",
    "2. 왼쪽 리스트와 오른쪽 리스트를 병합할 때, 두 리스트의 가장 큰 값을 비교, 오른쪽이 더 크면 1 카운트"
   ]
  },
  {
   "cell_type": "code",
   "execution_count": 11,
   "metadata": {},
   "outputs": [
    {
     "name": "stdout",
     "output_type": "stream",
     "text": [
      "#1 2 0\n",
      "#2 6 6\n"
     ]
    }
   ],
   "source": [
    "# 리스트를 둘로 나누어 재귀로 구현\n",
    "def merge_sort(nums):\n",
    "    if len(nums) == 1:\n",
    "        return nums\n",
    "    mid = len(nums) // 2\n",
    "    left = nums[:mid]\n",
    "    right = nums[mid:]\n",
    "    left = merge_sort(left)\n",
    "    right = merge_sort(right)\n",
    "    return merge(left, right)\n",
    "\n",
    "# 둘로 나뉜 리스트를 병합하여 정렬\n",
    "def merge(left, right):\n",
    "    global cnt\n",
    "    merged = []\n",
    "    left_idx, right_idx = 0, 0\n",
    "    # 만약 왼쪽 마지막 값이 더 크다면 1 카운트\n",
    "    if left[-1] > right[-1]:\n",
    "        cnt += 1\n",
    "    # 둘 모두 정렬할 값이 남아있으면 반복\n",
    "    while left_idx < len(left) and right_idx < len(right):\n",
    "        # 만약 왼쪽 값이 오른쪽보다 작거나 같으면\n",
    "        if left[left_idx] <= right[right_idx]:\n",
    "            # 왼쪽 값을 정렬된 리스트에 추가\n",
    "            merged.append(left[left_idx])\n",
    "            left_idx += 1\n",
    "        # 반대는 반대로 추가\n",
    "        else:\n",
    "            merged.append(right[right_idx])\n",
    "            right_idx += 1\n",
    "    # 남은 원소들을 정렬된 리스트에 추가\n",
    "    merged.extend(left[left_idx:])\n",
    "    merged.extend(right[right_idx:])\n",
    "    return merged\n",
    "\n",
    "T = int(input())\n",
    "for t in range(T):\n",
    "    cnt = 0\n",
    "    N = int(input())\n",
    "    nums = list(map(int, input().split()))\n",
    "    print(f'#{t+1}', merge_sort(nums)[N//2], cnt)"
   ]
  }
 ],
 "metadata": {
  "kernelspec": {
   "display_name": "venv",
   "language": "python",
   "name": "python3"
  },
  "language_info": {
   "codemirror_mode": {
    "name": "ipython",
    "version": 3
   },
   "file_extension": ".py",
   "mimetype": "text/x-python",
   "name": "python",
   "nbconvert_exporter": "python",
   "pygments_lexer": "ipython3",
   "version": "3.9.13"
  },
  "orig_nbformat": 4
 },
 "nbformat": 4,
 "nbformat_minor": 2
}

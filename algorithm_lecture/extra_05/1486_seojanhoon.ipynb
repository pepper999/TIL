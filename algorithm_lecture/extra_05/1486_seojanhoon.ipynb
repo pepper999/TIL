{
 "cells": [
  {
   "cell_type": "markdown",
   "metadata": {},
   "source": [
    "### 1486 장훈이의 높은 선반\n",
    "\n",
    "1. 백트래킹으로 부분집합을 구하기만 하면 된다."
   ]
  },
  {
   "cell_type": "code",
   "execution_count": null,
   "metadata": {},
   "outputs": [],
   "source": [
    "def back(tall, i):\n",
    "    global rlt\n",
    "    if i == N and tall < B:\n",
    "        return        \n",
    "    if tall >= B:\n",
    "        rlt = min(rlt, tall)\n",
    "        return\n",
    "    back(tall+clerk[i], i+1)\n",
    "    back(tall, i+1)\n",
    "    return\n",
    "\n",
    "T = int(input())\n",
    "for t in range(T):\n",
    "    N, B = map(int, input().split())\n",
    "    clerk = list(map(int, input().split()))\n",
    "    rlt = float('inf')\n",
    "    back(0,0)\n",
    "    print(f'#{t+1}', rlt-B)"
   ]
  }
 ],
 "metadata": {
  "kernelspec": {
   "display_name": "Python 3",
   "language": "python",
   "name": "python3"
  },
  "language_info": {
   "codemirror_mode": {
    "name": "ipython",
    "version": 3
   },
   "file_extension": ".py",
   "mimetype": "text/x-python",
   "name": "python",
   "nbconvert_exporter": "python",
   "pygments_lexer": "ipython3",
   "version": "3.9.13"
  },
  "orig_nbformat": 4
 },
 "nbformat": 4,
 "nbformat_minor": 2
}

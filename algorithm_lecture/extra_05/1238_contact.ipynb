{
 "cells": [
  {
   "cell_type": "markdown",
   "metadata": {},
   "source": [
    "### 1238 contact\n",
    "\n",
    "1. 단순히 bfs 를 돌려서 가장 먼곳에 있는 노드를 찾아낸다음, 저장되어 있던 최대값과 비교하면서 거리 최대값/노드 최대값만 찾아내면됨"
   ]
  },
  {
   "cell_type": "code",
   "execution_count": null,
   "metadata": {},
   "outputs": [],
   "source": [
    "from collections import deque\n",
    "\n",
    "def bfs(start):\n",
    "    que = deque([start])\n",
    "    visited[start] = 1\n",
    "    max_visited = 1\n",
    "    max_node = start\n",
    "    while que:\n",
    "        now = que.popleft()\n",
    "        if visited[now] > max_visited:\n",
    "            max_visited = visited[now]\n",
    "            max_node = now\n",
    "        elif visited[now] == max_visited:\n",
    "            max_node = max(max_node, now)\n",
    "        for next in node[now]:\n",
    "            if not visited[next]:\n",
    "                que.append(next)\n",
    "                visited[next] = visited[now] + 1\n",
    "    return max_visited, max_node\n",
    "\n",
    "                    \n",
    "for t in range(10):\n",
    "    N, start = map(int, input().split())\n",
    "    node = [[] for _ in range(101)]\n",
    "    visited = [0] * 101\n",
    "    con = list(map(int, input().split()))\n",
    "    for i in range(0,N,2):\n",
    "        node[con[i]].append(con[i+1])\n",
    "    print(f'#{t+1}', bfs(start)[1])"
   ]
  }
 ],
 "metadata": {
  "kernelspec": {
   "display_name": "Python 3",
   "language": "python",
   "name": "python3"
  },
  "language_info": {
   "codemirror_mode": {
    "name": "ipython",
    "version": 3
   },
   "file_extension": ".py",
   "mimetype": "text/x-python",
   "name": "python",
   "nbconvert_exporter": "python",
   "pygments_lexer": "ipython3",
   "version": "3.9.13"
  },
  "orig_nbformat": 4
 },
 "nbformat": 4,
 "nbformat_minor": 2
}

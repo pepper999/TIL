{
 "cells": [
  {
   "cell_type": "markdown",
   "metadata": {},
   "source": [
    "### 7465 창용 마을 무리의 개수\n",
    "\n",
    "1. 모든 노드를 순회하면서 아직 방문하지 않은 노드가 있다면, dfs를 돌리면 됨\n",
    "\n",
    "2. dfs가 돌아간 횟수가 무리의 수!"
   ]
  },
  {
   "cell_type": "code",
   "execution_count": null,
   "metadata": {},
   "outputs": [],
   "source": [
    "def dfs(start):\n",
    "    stack = [start]\n",
    "    visited[start] = 1\n",
    "    while stack:\n",
    "        now = stack.pop()\n",
    "        for next in node[now]:\n",
    "            if next and not visited[next]:\n",
    "                stack.append(next)\n",
    "                visited[next] = 1\n",
    "\n",
    "T = int(input())\n",
    "for t in range(T):\n",
    "    N, M = map(int, input().split())\n",
    "    node = [[] for _ in range(N+1)]\n",
    "    visited = [0] * (N+1)\n",
    "    cnt = 0\n",
    "    for i in range(M):\n",
    "        start, end = map(int, input().split())\n",
    "        node[start].append(end)\n",
    "        node[end].append(start)\n",
    "    for i in range(1, N+1):\n",
    "        if not visited[i]:\n",
    "            cnt += 1\n",
    "            dfs(i)\n",
    "    print(f'#{t+1}', cnt)"
   ]
  }
 ],
 "metadata": {
  "kernelspec": {
   "display_name": "Python 3",
   "language": "python",
   "name": "python3"
  },
  "language_info": {
   "codemirror_mode": {
    "name": "ipython",
    "version": 3
   },
   "file_extension": ".py",
   "mimetype": "text/x-python",
   "name": "python",
   "nbconvert_exporter": "python",
   "pygments_lexer": "ipython3",
   "version": "3.9.13"
  },
  "orig_nbformat": 4
 },
 "nbformat": 4,
 "nbformat_minor": 2
}

{
 "cells": [
  {
   "cell_type": "markdown",
   "metadata": {},
   "source": [
    "### 2819 격자판의 숫자 이어 붙이기\n",
    "\n",
    "1. dfs 를 재귀로 구현, set 형태의 결과값에 갱신을 함으로써 다른 숫자만 저장하게 만듦"
   ]
  },
  {
   "cell_type": "code",
   "execution_count": 4,
   "metadata": {},
   "outputs": [
    {
     "name": "stdout",
     "output_type": "stream",
     "text": [
      "#1 23\n"
     ]
    }
   ],
   "source": [
    "def dfs(x, y, length, nums):\n",
    "    if length == 7:\n",
    "        rlt.add(nums)\n",
    "        return\n",
    "    for i in range(4):\n",
    "        nx = x + delta[i][0]\n",
    "        ny = y + delta[i][1]\n",
    "        if 0 <= nx < 4 and 0 <= ny < 4:\n",
    "            dfs(nx,ny,length+1, nums+graph[nx][ny])\n",
    "\n",
    "delta = [(1,0), (-1,0), (0,1), (0,-1)]\n",
    "\n",
    "T = int(input())\n",
    "for t in range(T):\n",
    "    rlt = set()\n",
    "    graph = [list(input().split()) for _ in range(4)]\n",
    "    for i in range(4):\n",
    "        for j in range(4):\n",
    "            dfs(i, j, 0, '')\n",
    "    print(f'#{t+1}', len(rlt))"
   ]
  }
 ],
 "metadata": {
  "kernelspec": {
   "display_name": "Python 3",
   "language": "python",
   "name": "python3"
  },
  "language_info": {
   "codemirror_mode": {
    "name": "ipython",
    "version": 3
   },
   "file_extension": ".py",
   "mimetype": "text/x-python",
   "name": "python",
   "nbconvert_exporter": "python",
   "pygments_lexer": "ipython3",
   "version": "3.9.13"
  },
  "orig_nbformat": 4
 },
 "nbformat": 4,
 "nbformat_minor": 2
}

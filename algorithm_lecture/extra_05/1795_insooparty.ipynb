{
 "cells": [
  {
   "cell_type": "markdown",
   "metadata": {},
   "source": [
    "### 1795 인수의 생일 파티\n",
    "\n",
    "1. 모든 노드에 대해서 다익스트라 알고리즘을 사용한다.\n",
    "\n",
    "2. 각노드와 X의 왕복거리를 다익스트라 알고리즘을 통해 구한 결과행렬에서 찾아서 그 중 최장거리를 도출해낸다."
   ]
  },
  {
   "cell_type": "code",
   "execution_count": null,
   "metadata": {},
   "outputs": [],
   "source": [
    "import heapq\n",
    "\n",
    "def dijkstra(start):\n",
    "    distances = [float('inf') for _ in range(N+1)]\n",
    "    heap = [(0, start)]\n",
    "    distances[start] = 0\n",
    "    while heap:\n",
    "        now_dis, now = heapq.heappop(heap)\n",
    "        if now_dis <= distances[now]:\n",
    "            for next, weight in graph[now]:\n",
    "                distance = now_dis + weight\n",
    "                if distance <= distances[next]:\n",
    "                    distances[next] = distance\n",
    "                    heapq.heappush(heap, (distance, next))\n",
    "    return distances\n",
    "\n",
    "T = int(input())\n",
    "for t in range(T):\n",
    "    N, M, X = map(int, input().split())\n",
    "    graph = [[] for _ in range(N+1)]\n",
    "    for _ in range(M):\n",
    "        x, y, c = map(int, input().split())\n",
    "        graph[x].append((y,c))\n",
    "    distances = [[]]\n",
    "    for i in range(1, N+1):\n",
    "        distances.append(dijkstra(i))\n",
    "    max_route = -1\n",
    "    for i in range(2, N+1):\n",
    "        max_route = max(distances[X][i] + distances[i][X], max_route)\n",
    "    print(f'#{t+1}', max_route)"
   ]
  }
 ],
 "metadata": {
  "kernelspec": {
   "display_name": "Python 3",
   "language": "python",
   "name": "python3"
  },
  "language_info": {
   "codemirror_mode": {
    "name": "ipython",
    "version": 3
   },
   "file_extension": ".py",
   "mimetype": "text/x-python",
   "name": "python",
   "nbconvert_exporter": "python",
   "pygments_lexer": "ipython3",
   "version": "3.9.13"
  },
  "orig_nbformat": 4
 },
 "nbformat": 4,
 "nbformat_minor": 2
}

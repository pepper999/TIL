{
 "cells": [
  {
   "cell_type": "markdown",
   "metadata": {},
   "source": [
    "### 11660 구간 합 구하기 5\n",
    "\n",
    "1. 2차원 누적합 배열로 처리 가능!\n",
    "\n",
    "2. 미리 2차원 누적합 배열이 들어갈 배열을 만듦((N+1)^2 사이즈)\n",
    "\n",
    "3. 2차원 누적합 배열을 구성\n",
    "\n",
    "4. (x1, y1)에서 (x2, y2)까지의 합을 구하기 위해, [x2][y2] - [x1-1][y2] - [x2][y1-1] + [x1-1][y1-1] 값 계산"
   ]
  },
  {
   "cell_type": "code",
   "execution_count": null,
   "metadata": {},
   "outputs": [],
   "source": [
    "import sys\n",
    "input = sys.stdin.readline\n",
    "\n",
    "N, M = map(int, input().split())\n",
    "num_c = list()\n",
    "result = list()\n",
    "# 누적합 배열이 들어갈 (N+1)^2 size의 빈 배열 만들어 놓기\n",
    "sum_list = [[0 for _ in range(N+1)]for _ in range(N+1)]\n",
    "ls = []\n",
    "for i in range(1, N+1):\n",
    "    ls.append(list(map(int, input().split())))\n",
    "# 각 빈칸에 들어갈 누적합 값 계산하여 할당.    \n",
    "    for j in range(1, N+1):\n",
    "        sum_list[i][j] = ls[i-1][j-1] + (sum_list[i-1][j] + sum_list[i][j-1]) - sum_list[i-1][j-1] \n",
    "# 각 좌표별 합 계산. [x2][y2] - [x1-1][y2] - [x2][y1-1] + [x1-1][y1-1] 공식 사용\n",
    "for i in range(M):\n",
    "    x1, y1, x2, y2 = map(int, input().split())\n",
    "    print(sum_list[x2][y2] - sum_list[x1-1][y2] - sum_list[x2][y1-1] + sum_list[x1-1][y1-1])"
   ]
  }
 ],
 "metadata": {
  "language_info": {
   "name": "python"
  },
  "orig_nbformat": 4
 },
 "nbformat": 4,
 "nbformat_minor": 2
}

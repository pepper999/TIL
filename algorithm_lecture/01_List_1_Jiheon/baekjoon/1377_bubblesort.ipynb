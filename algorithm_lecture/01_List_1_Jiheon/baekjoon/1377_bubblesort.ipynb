{
 "cells": [
  {
   "cell_type": "markdown",
   "metadata": {},
   "source": [
    "### 1337 버블 소트\n",
    "\n",
    "1. 출력 값 i 는 버블 정렬이 몇 사이클 돌았는지를 나타내는 값\n",
    "\n",
    "2. 버블 정렬 시, 값이 작아 좌측으로 이동하는 경우는 한 사이클에 한번 가능함\n",
    "\n",
    "3. 즉, 배열의 값이 좌측으로 이동한 값의 최댓값을 구하면 버블 정렬 횟수를 구할 수 있다.\n",
    "\n",
    "4. 정렬된 리스트의 값과, 처음 리스트의 값 간의 인덱스 차이를 구한다면, 배열의 값이 몇번 움직였는지를 알 수 있다."
   ]
  },
  {
   "cell_type": "code",
   "execution_count": 29,
   "metadata": {},
   "outputs": [
    {
     "name": "stdout",
     "output_type": "stream",
     "text": [
      "3\n"
     ]
    }
   ],
   "source": [
    "import sys\n",
    "input = sys.stdin.readline\n",
    "\n",
    "N = int(input())\n",
    "num = []\n",
    "for _ in range(N):\n",
    "# 각 숫자와 정렬되지 않은 상태의 index 값을 tuple로 하여 리스트에 저장\n",
    "    num.append((int(input()), _))\n",
    "\n",
    "# list 정렬\n",
    "sorted_num = sorted(num)\n",
    "temp_max = 0\n",
    "\n",
    "# 졍렬한 list의 index 값과 최초 list의 index 값의 차이의 최댓값을 구함\n",
    "for i in range(N):\n",
    "    temp_max = max(sorted_num[i][1] - i + 1, temp_max)\n",
    "print(temp_max)"
   ]
  }
 ],
 "metadata": {
  "kernelspec": {
   "display_name": "Python 3",
   "language": "python",
   "name": "python3"
  },
  "language_info": {
   "codemirror_mode": {
    "name": "ipython",
    "version": 3
   },
   "file_extension": ".py",
   "mimetype": "text/x-python",
   "name": "python",
   "nbconvert_exporter": "python",
   "pygments_lexer": "ipython3",
   "version": "3.9.13"
  },
  "orig_nbformat": 4
 },
 "nbformat": 4,
 "nbformat_minor": 2
}

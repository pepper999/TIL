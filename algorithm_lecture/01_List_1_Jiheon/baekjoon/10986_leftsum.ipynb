{
 "cells": [
  {
   "cell_type": "markdown",
   "metadata": {},
   "source": [
    "### 10986 나머지 합\n",
    "\n",
    "1. 누적합 리스트를 구한 후, 모든 구간 합의 경우의 수를 구할 경우 시간복잡도가 N^2\n",
    "\n",
    "2. 나머지가 0이 되는 수(배수)끼리의 합도 나머지가 0이 된다는 점을 활용!\n",
    "\n",
    "3. (누적리스트[i] - 누적리스트[j])%M = 0 이라면, 누적리스트[i]%M = 누적리스트[j]%M 이라는 점을 활용!\n",
    "\n",
    "4. 길이 M 의 counting list를 만들어서, i 번째 누적합의 나머지(x) 를 x 번째 index에 카운팅\n",
    "\n",
    "5. nC2 순열 구하는 방식을 통해서 같은 나머지들 중에서 2개의 조합을 골라내는 경우의 수 계산"
   ]
  },
  {
   "cell_type": "code",
   "execution_count": null,
   "metadata": {},
   "outputs": [],
   "source": [
    "N, M = map(int, input().split())\n",
    "ls = list(map(int, input().split()))\n",
    "# counting list 할당\n",
    "cnt = [0] * M\n",
    "# 누적합 리스트를 따로 만들면, index에 다 다시 접근해서 시간이 느려지므로 현재 누적합을 저장하는 변수 sum을 지정\n",
    "# sum을 M으로 나눈 값을 바로 counting list에 카운트\n",
    "sum = 0\n",
    "for i in range(len(ls)):\n",
    "    sum += ls[i]\n",
    "    cnt[sum % M] += 1\n",
    "\n",
    "# 나머지가 0인 경우, 혼자서도 M으로 나누어떨어지는 것이기 때문에 바로 최종결과 반영\n",
    "rlt = cnt[0]\n",
    "\n",
    "# 나머지가 같은 쌍을 구하는 모든 경우의 수를 nC2 순열로 갯수만 구함\n",
    "for i in range(M):\n",
    "    rlt += (cnt[i]*(cnt[i]-1))/2\n",
    "\n",
    "print(int(rlt))"
   ]
  }
 ],
 "metadata": {
  "language_info": {
   "name": "python"
  },
  "orig_nbformat": 4
 },
 "nbformat": 4,
 "nbformat_minor": 2
}

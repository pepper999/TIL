{
 "cells": [
  {
   "cell_type": "markdown",
   "metadata": {},
   "source": [
    "### 11659 구간 합 구하기4\n",
    "\n",
    "1. 주어진 수 N 개에 대한 누적 합 리스트를 생성한다.\n",
    "\n",
    "2. i 에서 j 번째 숫자의 합이기 떄문에, j까지의 누적합 - i까지의 누적합으로 계산하면 된다."
   ]
  },
  {
   "cell_type": "code",
   "execution_count": null,
   "metadata": {},
   "outputs": [],
   "source": [
    "import sys\n",
    "input = sys.stdin.readline\n",
    "N, M = map(int, input().split())\n",
    "num = list(map(int, input().split()))\n",
    "# 첫번째 수가 i 로 제시되는 경우를 위해 아무것도 빼지않는 경우 0을 더미로 추가\n",
    "c_num = [0]\n",
    "\n",
    "for _ in range(1,N+1):\n",
    "    c_num.append(c_num[_-1]+num[_-1])\n",
    "for _ in range(M):\n",
    "    i, j = map(int, input().split())\n",
    "    print(c_num[j]-c_num[i-1])"
   ]
  }
 ],
 "metadata": {
  "language_info": {
   "name": "python"
  },
  "orig_nbformat": 4
 },
 "nbformat": 4,
 "nbformat_minor": 2
}

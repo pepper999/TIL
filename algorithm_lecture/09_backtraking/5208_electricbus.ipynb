{
 "cells": [
  {
   "cell_type": "markdown",
   "metadata": {},
   "source": [
    "### 5208 전기버스2\n",
    "\n",
    "1. 간단히 백트래킹으로 해결가능"
   ]
  },
  {
   "cell_type": "code",
   "execution_count": null,
   "metadata": {},
   "outputs": [],
   "source": [
    "def back(now, left, cnt):\n",
    "    global min_cnt\n",
    "    if now >= station_N-1:\n",
    "        min_cnt = min(cnt, min_cnt)\n",
    "        return\n",
    "    if min_cnt <= cnt:\n",
    "        return\n",
    "    if left >= 1:\n",
    "        back(now + 1, left -1, cnt)\n",
    "    back(now+1, station[now] - 1, cnt+1)\n",
    "\n",
    "T = int(input())\n",
    "for t in range(T):\n",
    "    min_cnt = float('inf')\n",
    "    station = list(map(int, input().split()))\n",
    "    station_N = station.pop(0)\n",
    "    back(0, station[0], 0)\n",
    "    print(f'#{t+1}', min_cnt)"
   ]
  }
 ],
 "metadata": {
  "kernelspec": {
   "display_name": "Python 3",
   "language": "python",
   "name": "python3"
  },
  "language_info": {
   "codemirror_mode": {
    "name": "ipython",
    "version": 3
   },
   "file_extension": ".py",
   "mimetype": "text/x-python",
   "name": "python",
   "nbconvert_exporter": "python",
   "pygments_lexer": "ipython3",
   "version": "3.9.13"
  },
  "orig_nbformat": 4
 },
 "nbformat": 4,
 "nbformat_minor": 2
}

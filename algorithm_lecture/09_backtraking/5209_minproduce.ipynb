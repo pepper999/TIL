{
 "cells": [
  {
   "cell_type": "markdown",
   "metadata": {},
   "source": [
    "### 5209 최소 생산 비용\n",
    "\n",
    "1. 간단한 백트래킹 문제"
   ]
  },
  {
   "cell_type": "code",
   "execution_count": null,
   "metadata": {},
   "outputs": [],
   "source": [
    "def back(total, n):\n",
    "    global min_total\n",
    "    if n == N:\n",
    "        min_total = min(total, min_total)\n",
    "        return\n",
    "    if total > min_total:\n",
    "        return\n",
    "    for i in range(N):\n",
    "        if not visited[i]:\n",
    "            visited[i] = 1\n",
    "            back(total+factory[n][i], n+1)\n",
    "            visited[i] = 0\n",
    "\n",
    "T = int(input())\n",
    "for t in range(T):\n",
    "    N = int(input())\n",
    "    factory = [list(map(int, input().split())) for _ in range(N)]\n",
    "    visited = [0] * N\n",
    "    min_total = float('inf')\n",
    "    back(0,0)\n",
    "    print(f'#{t+1}', min_total)"
   ]
  }
 ],
 "metadata": {
  "kernelspec": {
   "display_name": "Python 3",
   "language": "python",
   "name": "python3"
  },
  "language_info": {
   "codemirror_mode": {
    "name": "ipython",
    "version": 3
   },
   "file_extension": ".py",
   "mimetype": "text/x-python",
   "name": "python",
   "nbconvert_exporter": "python",
   "pygments_lexer": "ipython3",
   "version": "3.9.13"
  },
  "orig_nbformat": 4
 },
 "nbformat": 4,
 "nbformat_minor": 2
}

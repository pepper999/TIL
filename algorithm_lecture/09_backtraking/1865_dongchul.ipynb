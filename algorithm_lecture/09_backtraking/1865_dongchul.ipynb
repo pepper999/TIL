{
 "cells": [
  {
   "cell_type": "markdown",
   "metadata": {},
   "source": [
    "### 1865 동철이의 일 분배\n",
    "\n",
    "1. 기본적인 백트래킹 문제"
   ]
  },
  {
   "cell_type": "code",
   "execution_count": null,
   "metadata": {},
   "outputs": [],
   "source": [
    "def back(n, per):\n",
    "    global max_per\n",
    "    if n == N:\n",
    "        max_per = max(max_per, per)\n",
    "        return\n",
    "    if per <= max_per:\n",
    "        return\n",
    "    for i in range(N):\n",
    "        if not visited[i]:\n",
    "            visited[i] = 1\n",
    "            back(n+1, per * employee[n][i] / 100)\n",
    "            visited[i] = 0\n",
    "T = int(input())\n",
    "for t in range(T):\n",
    "    N = int(input())\n",
    "    employee = [list(map(int, input().split())) for _ in range(N)]\n",
    "    visited = [0] * N\n",
    "    max_per = 0\n",
    "    back(0,100)\n",
    "    print(f'#{t+1} %.6f'%max_per)"
   ]
  }
 ],
 "metadata": {
  "kernelspec": {
   "display_name": "Python 3",
   "language": "python",
   "name": "python3"
  },
  "language_info": {
   "codemirror_mode": {
    "name": "ipython",
    "version": 3
   },
   "file_extension": ".py",
   "mimetype": "text/x-python",
   "name": "python",
   "nbconvert_exporter": "python",
   "pygments_lexer": "ipython3",
   "version": "3.9.13"
  },
  "orig_nbformat": 4
 },
 "nbformat": 4,
 "nbformat_minor": 2
}

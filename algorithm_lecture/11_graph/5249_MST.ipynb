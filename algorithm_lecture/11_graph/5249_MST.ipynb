{
 "cells": [
  {
   "cell_type": "markdown",
   "metadata": {},
   "source": [
    "### 5249 최소 신장 트리"
   ]
  },
  {
   "cell_type": "code",
   "execution_count": null,
   "metadata": {},
   "outputs": [],
   "source": [
    "# 프림알고리즘 heap 구조를 사용 다익스트라랑 비슷한 구조!\n",
    "import heapq\n",
    "\n",
    "def prim(start):\n",
    "    heap = []\n",
    "    visited = [0] * (V+1)\n",
    "    heapq.heappush(heap, (0, start))\n",
    "    MST = []\n",
    "    total_weight = 0\n",
    "    while heap:\n",
    "        weight, node = heapq.heappop(heap)\n",
    "        if not visited[node]:\n",
    "            visited[node] = 1\n",
    "            MST.append((node, weight))\n",
    "            total_weight += weight\n",
    "            for next, next_weight in graph[node]:\n",
    "                heapq.heappush(heap, (next_weight, next))\n",
    "    return total_weight\n",
    "\n",
    "T = int(input())\n",
    "for t in range(T):\n",
    "    V, E = map(int, input().split())\n",
    "    graph = [[] for _ in range(V+1)]\n",
    "    for i in range(E):\n",
    "        n1, n2, w = map(int, input().split())\n",
    "        graph[n1].append([n2,w])\n",
    "        graph[n2].append([n1,w])\n",
    "    total_weight = prim(1)\n",
    "    print(f'#{t+1}', total_weight)"
   ]
  },
  {
   "cell_type": "code",
   "execution_count": null,
   "metadata": {},
   "outputs": [],
   "source": [
    "# 크루스칼 알고리즘. 유니온 파인드를 응용함\n",
    "def kruskal(graph):\n",
    "    global total_weight\n",
    "    def find(parent, node):\n",
    "        if parent[node] == node:\n",
    "            return node\n",
    "        parent[node] = find(parent, parent[node])\n",
    "        return parent[node]\n",
    "\n",
    "    def union(parent, rank, u, v):\n",
    "        root_u = find(parent, u)\n",
    "        root_v = find(parent, v)\n",
    "\n",
    "        if rank[root_u] < rank[root_v]:\n",
    "            parent[root_u] = root_v\n",
    "        elif rank[root_u] > rank[root_v]:\n",
    "            parent[root_v] = root_u\n",
    "        else:\n",
    "            parent[root_v] = root_u\n",
    "            rank[root_u] += 1\n",
    "\n",
    "    graph.sort(key=lambda edge: edge[2])\n",
    "    n = len(graph)\n",
    "    parent = list(range(n))\n",
    "    rank = [0] * n\n",
    "    minimum_spanning_tree = []\n",
    "\n",
    "    for edge in graph:\n",
    "        u, v, weight = edge\n",
    "        if find(parent, u) != find(parent, v):\n",
    "            minimum_spanning_tree.append(edge)\n",
    "            total_weight += weight\n",
    "            union(parent, rank, u, v)\n",
    "\n",
    "    return minimum_spanning_tree\n",
    "\n",
    "T = int(input())\n",
    "for t in range(T):\n",
    "    V, E = map(int, input().split())\n",
    "    graph = []\n",
    "    for _ in range(E):\n",
    "        n1, n2, w = map(int, input().split())\n",
    "        graph.append((n1, n2, w))\n",
    "    total_weight = 0\n",
    "    print(kruskal(graph), total_weight)"
   ]
  }
 ],
 "metadata": {
  "kernelspec": {
   "display_name": "Python 3",
   "language": "python",
   "name": "python3"
  },
  "language_info": {
   "codemirror_mode": {
    "name": "ipython",
    "version": 3
   },
   "file_extension": ".py",
   "mimetype": "text/x-python",
   "name": "python",
   "nbconvert_exporter": "python",
   "pygments_lexer": "ipython3",
   "version": "3.9.13"
  },
  "orig_nbformat": 4
 },
 "nbformat": 4,
 "nbformat_minor": 2
}

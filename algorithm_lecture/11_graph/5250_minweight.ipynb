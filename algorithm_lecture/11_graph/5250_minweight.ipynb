{
 "cells": [
  {
   "cell_type": "markdown",
   "metadata": {},
   "source": [
    "### 5250 최소 비용\n",
    "\n",
    "1. 다익스트라 알고리즘을 사용, 델타 탐색을 통해 그래프를 탐색한다.\n",
    "\n",
    "2. 각 좌표로 이동하는데 걸리는 weight 값을 실시간으로 계산해서, 현재 distances 값보다 작다면, 갱신해준다."
   ]
  },
  {
   "cell_type": "code",
   "execution_count": null,
   "metadata": {},
   "outputs": [],
   "source": [
    "import heapq\n",
    "\n",
    "delta = [(0,1),(0,-1),(1,0),(-1,0)]\n",
    "\n",
    "def dijkstra(i, j):\n",
    "    heap = [(0,i,j)]\n",
    "    distances[i][j] = 0\n",
    "    while heap:\n",
    "        now_dis, x, y = heapq.heappop(heap)\n",
    "        if now_dis <= distances[x][y]:\n",
    "            for i in range(4):\n",
    "                nx = x + delta[i][0]\n",
    "                ny = y + delta[i][1]\n",
    "                if 0 <= nx < N and 0 <= ny < N:\n",
    "                    weight = max(0, graph[nx][ny] - graph[x][y]) + 1\n",
    "                    dis = now_dis + weight\n",
    "                    if dis < distances[nx][ny]:\n",
    "                        heapq.heappush(heap, (dis, nx, ny))\n",
    "                        distances[nx][ny] = dis\n",
    "\n",
    "T = int(input())\n",
    "for t in range(T):\n",
    "    N = int(input())\n",
    "    graph = [list(map(int, input().split())) for _ in range(N)]\n",
    "    distances = [[float('inf') for _ in range(N)] for _ in range(N)]\n",
    "    dijkstra(0,0)\n",
    "    print(f'#{t+1}', distances[-1][-1])"
   ]
  }
 ],
 "metadata": {
  "kernelspec": {
   "display_name": "Python 3",
   "language": "python",
   "name": "python3"
  },
  "language_info": {
   "codemirror_mode": {
    "name": "ipython",
    "version": 3
   },
   "file_extension": ".py",
   "mimetype": "text/x-python",
   "name": "python",
   "nbconvert_exporter": "python",
   "pygments_lexer": "ipython3",
   "version": "3.9.13"
  },
  "orig_nbformat": 4
 },
 "nbformat": 4,
 "nbformat_minor": 2
}

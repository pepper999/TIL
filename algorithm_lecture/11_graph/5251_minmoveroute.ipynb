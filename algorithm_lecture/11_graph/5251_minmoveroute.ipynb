{
 "cells": [
  {
   "cell_type": "markdown",
   "metadata": {},
   "source": [
    "### 5251 최소 이동 거리\n",
    "\n",
    "1. 다익스트라 알고리즘 사용시 해결가능"
   ]
  },
  {
   "cell_type": "code",
   "execution_count": null,
   "metadata": {},
   "outputs": [],
   "source": [
    "import heapq\n",
    "\n",
    "def dijkstra(start):\n",
    "    heap = [(0, start)]\n",
    "    distances[start] = 0\n",
    "    while heap:\n",
    "        now_dis, now = heapq.heappop(heap)\n",
    "        if now_dis <= distances[now]:\n",
    "            for next, weight in graph[now]:\n",
    "                dis = now_dis + weight\n",
    "                if distances[next] > dis:\n",
    "                    distances[next] = dis\n",
    "                    heapq.heappush(heap, (dis, next))\n",
    "\n",
    "T = int(input())\n",
    "for t in range(T):\n",
    "    N, E = map(int, input().split())\n",
    "    graph = [[] for _ in range(N+1)]\n",
    "    for i in range(E):\n",
    "        s, e, w = map(int, input().split())\n",
    "        graph[s].append((e, w))\n",
    "    distances = [float('inf') for _ in range(N+1)]\n",
    "    dijkstra(0)\n",
    "    print(f'#{t+1}', distances[-1])"
   ]
  }
 ],
 "metadata": {
  "kernelspec": {
   "display_name": "Python 3",
   "language": "python",
   "name": "python3"
  },
  "language_info": {
   "codemirror_mode": {
    "name": "ipython",
    "version": 3
   },
   "file_extension": ".py",
   "mimetype": "text/x-python",
   "name": "python",
   "nbconvert_exporter": "python",
   "pygments_lexer": "ipython3",
   "version": "3.9.13"
  },
  "orig_nbformat": 4
 },
 "nbformat": 4,
 "nbformat_minor": 2
}

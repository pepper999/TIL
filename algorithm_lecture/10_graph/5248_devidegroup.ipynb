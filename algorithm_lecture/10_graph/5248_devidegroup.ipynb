{
 "cells": [
  {
   "cell_type": "markdown",
   "metadata": {},
   "source": [
    "### 5248 그룹 나누기"
   ]
  },
  {
   "cell_type": "code",
   "execution_count": null,
   "metadata": {},
   "outputs": [],
   "source": [
    "T = int(input())\n",
    "def dfs(start):\n",
    "    stack = [start]\n",
    "    visited[start] = 1\n",
    "    while stack:\n",
    "        now = stack.pop()\n",
    "        for next in graph[now]:\n",
    "            if not visited[next]:\n",
    "                stack.append(next)\n",
    "                visited[next] = 1\n",
    "for t in range(T):\n",
    "    cnt = 0\n",
    "    N, M = map(int, input().split())\n",
    "    loves = list(map(int, input().split()))\n",
    "    graph = [[] for _ in range(N+1)]\n",
    "    visited = [0] * (N+1)\n",
    "    for i in range(0,2*M,2):\n",
    "        graph[loves[i]].append(loves[i+1])\n",
    "        graph[loves[i+1]].append(loves[i])\n",
    "    for i in range(1, N+1):\n",
    "        if not visited[i]:\n",
    "            dfs(i)\n",
    "            cnt += 1\n",
    "    print(f'#{t+1}', cnt)"
   ]
  },
  {
   "cell_type": "code",
   "execution_count": null,
   "metadata": {},
   "outputs": [],
   "source": [
    "def find_root(x):\n",
    "    if x == graph[x]:\n",
    "        return x\n",
    "    else:\n",
    "        return find_root(graph[x])\n",
    "def union(x, y):\n",
    "    graph[find_root(y)] = find_root(x)\n",
    "\n",
    "T = int(input())\n",
    "for t in range(T):\n",
    "    N, M = map(int, input().split())\n",
    "    loves = list(map(int, input().split()))\n",
    "    graph = [i for i in range(N+1)]\n",
    "    for i in range(0, 2*M, 2):\n",
    "        union(loves[i], loves[i+1])\n",
    "    rlt = set()\n",
    "    for i in range(1, N+1):\n",
    "        rlt.add(find_root(i))\n",
    "    print(f'#{t+1}', len(rlt))"
   ]
  }
 ],
 "metadata": {
  "kernelspec": {
   "display_name": "Python 3",
   "language": "python",
   "name": "python3"
  },
  "language_info": {
   "codemirror_mode": {
    "name": "ipython",
    "version": 3
   },
   "file_extension": ".py",
   "mimetype": "text/x-python",
   "name": "python",
   "nbconvert_exporter": "python",
   "pygments_lexer": "ipython3",
   "version": "3.9.13"
  },
  "orig_nbformat": 4
 },
 "nbformat": 4,
 "nbformat_minor": 2
}

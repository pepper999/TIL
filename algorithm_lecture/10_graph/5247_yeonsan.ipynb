{
 "cells": [
  {
   "cell_type": "markdown",
   "metadata": {},
   "source": [
    "### 5247 연산"
   ]
  },
  {
   "cell_type": "code",
   "execution_count": null,
   "metadata": {},
   "outputs": [],
   "source": [
    "from collections import deque\n",
    "\n",
    "def bfs():\n",
    "    que = deque([N])\n",
    "    visited[N] = 1\n",
    "    while que:\n",
    "        now = que.popleft()\n",
    "        for next in (now+1, now-1, now*2, now-10):\n",
    "            if next == M:\n",
    "                return visited[now]\n",
    "            if 0 <= next < (10 ** 6) and not visited[next]:\n",
    "                que.append(next)\n",
    "                visited[next] = visited[now] + 1\n",
    "T = int(input())\n",
    "for t in range(T):\n",
    "    N, M = map(int, input().split())\n",
    "    visited = [0] * (10 ** 6)\n",
    "    print(f'#{t+1}', bfs())"
   ]
  }
 ],
 "metadata": {
  "kernelspec": {
   "display_name": "Python 3",
   "language": "python",
   "name": "python3"
  },
  "language_info": {
   "codemirror_mode": {
    "name": "ipython",
    "version": 3
   },
   "file_extension": ".py",
   "mimetype": "text/x-python",
   "name": "python",
   "nbconvert_exporter": "python",
   "pygments_lexer": "ipython3",
   "version": "3.9.13"
  },
  "orig_nbformat": 4
 },
 "nbformat": 4,
 "nbformat_minor": 2
}
